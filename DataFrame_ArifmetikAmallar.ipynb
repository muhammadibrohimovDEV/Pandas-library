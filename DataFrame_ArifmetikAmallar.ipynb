{
  "nbformat": 4,
  "nbformat_minor": 0,
  "metadata": {
    "colab": {
      "provenance": [],
      "authorship_tag": "ABX9TyM0idD+XSC8XIwP2ZOVvmJB",
      "include_colab_link": true
    },
    "kernelspec": {
      "name": "python3",
      "display_name": "Python 3"
    },
    "language_info": {
      "name": "python"
    }
  },
  "cells": [
    {
      "cell_type": "markdown",
      "metadata": {
        "id": "view-in-github",
        "colab_type": "text"
      },
      "source": [
        "<a href=\"https://colab.research.google.com/github/muhammadibrohimovDEV/Pandas-library/blob/main/DataFrame_ArifmetikAmallar.ipynb\" target=\"_parent\"><img src=\"https://colab.research.google.com/assets/colab-badge.svg\" alt=\"Open In Colab\"/></a>"
      ]
    },
    {
      "cell_type": "code",
      "execution_count": 1,
      "metadata": {
        "colab": {
          "base_uri": "https://localhost:8080/"
        },
        "id": "9ni8Cle33ekI",
        "outputId": "99052471-05f0-4e4d-9641-5d1926ff4c5f"
      },
      "outputs": [
        {
          "output_type": "stream",
          "name": "stdout",
          "text": [
            "a    7.3\n",
            "c   -2.5\n",
            "d    3.4\n",
            "e    1.5\n",
            "dtype: float64\n",
            "a   -2.1\n",
            "c    3.6\n",
            "e   -1.5\n",
            "f    4.0\n",
            "g    3.1\n",
            "dtype: float64\n",
            "a    5.2\n",
            "c    1.1\n",
            "d    NaN\n",
            "e    0.0\n",
            "f    NaN\n",
            "g    NaN\n",
            "dtype: float64\n",
            "        b    c    d\n",
            "Olma  0.0  1.0  2.0\n",
            "Anor  3.0  4.0  5.0\n",
            "Uzum  6.0  7.0  8.0\n",
            "         a     b     c\n",
            "Olma   0.0   1.0   2.0\n",
            "Anor   3.0   4.0   5.0\n",
            "Qovun  6.0   7.0   8.0\n",
            "Anjir  9.0  10.0  11.0\n",
            "        a    b    c   d\n",
            "Anjir NaN  NaN  NaN NaN\n",
            "Anor  NaN  7.0  9.0 NaN\n",
            "Olma  NaN  1.0  3.0 NaN\n",
            "Qovun NaN  NaN  NaN NaN\n",
            "Uzum  NaN  NaN  NaN NaN\n",
            "         a     b     c    d\n",
            "Anjir  9.0  10.0  11.0  NaN\n",
            "Anor   3.0   7.0   9.0  5.0\n",
            "Olma   0.0   1.0   3.0  2.0\n",
            "Qovun  6.0   7.0   8.0  NaN\n",
            "Uzum   NaN   6.0   7.0  8.0\n",
            "         a     b     c    d\n",
            "Anjir  9.0  10.0  11.0  NaN\n",
            "Anor   3.0   1.0   1.0 -5.0\n",
            "Olma   0.0   1.0   1.0 -2.0\n",
            "Qovun  6.0   7.0   8.0  NaN\n",
            "Uzum   NaN  -6.0  -7.0 -8.0\n",
            "         a     b     c    d\n",
            "Anjir -9.0 -10.0 -11.0  NaN\n",
            "Anor  -3.0  -1.0  -1.0  5.0\n",
            "Olma   0.0  -1.0  -1.0  2.0\n",
            "Qovun -6.0  -7.0  -8.0  NaN\n",
            "Uzum   NaN   6.0   7.0  8.0\n",
            "       a     b     c   d\n",
            "Olma NaN   4.0   6.0 NaN\n",
            "Anor NaN   7.0   9.0 NaN\n",
            "Uzum NaN  10.0  12.0 NaN\n"
          ]
        }
      ],
      "source": [
        "# Arifmetik amallar\n",
        "\n",
        "import pandas as pd\n",
        "import numpy as np\n",
        "\n",
        "s1 = pd.Series([7.3 , -2.5 , 3.4 , 1.5] , index = ['a' , 'c' , 'd' , 'e'])\n",
        "s2 = pd.Series([-2.1 , 3.6 , -1.5 , 4 , 3.1] , index = ['a' , 'c' , 'e' , 'f' , 'g'])\n",
        "\n",
        "print(s1)\n",
        "print(s2)\n",
        "\n",
        "# Qo'shish\n",
        "s3 = s1 + s2 # Series da mavjud bo'lgan bir xil index lar qo'shiladi , qolgnanlarini mosi bo'lmasa ham NaN yoziladi\n",
        "print(s3)\n",
        "\n",
        "df1 = pd.DataFrame(np.arange(9.).reshape(3 , 3) ,columns = list('bcd') , index = (['Olma' , 'Anor' , 'Uzum']))\n",
        "df2 = pd.DataFrame(np.arange(12.).reshape(4 , 3) ,columns = list('abc') , index = (['Olma' , 'Anor' , 'Qovun' , 'Anjir']))\n",
        "\n",
        "print(df1)\n",
        "print(df2)\n",
        "\n",
        "df3 = df1 + df2 # DataFrame da mos index va ustundagi elementlar qo'shiladi , qolganlari NaN bo'ladi\n",
        "print(df3)\n",
        "\n",
        "# .add , .sub , .div , .mul , .rmul\n",
        "\n",
        "print(df1.add(df2 , fill_value = 0)) # bir df ni ikkinchi df ga qo'shadi faqar fill_value da bir index birida bor lekin bunda yo'q , ustun unda bor bunda yo'q bo'lgan holda fill_value qo'yiladi\n",
        "print(df2.sub(df1 , fill_value = 0)) # df2 dan df1 ni ayiradi\n",
        "print(df2.rsub(df1 , fill_value = 0)) # df1 dan df2 ayiradi\n",
        "# .floordiv - bo'lib faqat butun qismini olish\n",
        "# .pow - eksponenta\n",
        "\n",
        "print(df1 + df2.loc['Anor']) # df ga oddiy bir dona qiymat qo'shish\n",
        "\n"
      ]
    },
    {
      "cell_type": "code",
      "source": [],
      "metadata": {
        "id": "YadGZ3bg3u8B"
      },
      "execution_count": null,
      "outputs": []
    }
  ]
}