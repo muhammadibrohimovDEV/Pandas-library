{
  "nbformat": 4,
  "nbformat_minor": 0,
  "metadata": {
    "colab": {
      "provenance": [],
      "authorship_tag": "ABX9TyMEwZRX78ondp9nR0Ycuvqr",
      "include_colab_link": true
    },
    "kernelspec": {
      "name": "python3",
      "display_name": "Python 3"
    },
    "language_info": {
      "name": "python"
    }
  },
  "cells": [
    {
      "cell_type": "markdown",
      "metadata": {
        "id": "view-in-github",
        "colab_type": "text"
      },
      "source": [
        "<a href=\"https://colab.research.google.com/github/muhammadibrohimovDEV/Pandas-library/blob/main/DataFrame_funksiyalarni_qo'llash.ipynb\" target=\"_parent\"><img src=\"https://colab.research.google.com/assets/colab-badge.svg\" alt=\"Open In Colab\"/></a>"
      ]
    },
    {
      "cell_type": "code",
      "execution_count": 1,
      "metadata": {
        "colab": {
          "base_uri": "https://localhost:8080/"
        },
        "id": "OEcn5VOY3Vjb",
        "outputId": "bd3d9020-d9cd-4168-c8ad-51c4f09113ee"
      },
      "outputs": [
        {
          "output_type": "stream",
          "name": "stdout",
          "text": [
            "          0         1         2         3\n",
            "a  0.350529  1.161962  1.229066  1.556346\n",
            "b -0.565437  0.900251  0.163212  0.566724\n",
            "c -0.139558 -0.189488  0.268360 -0.165826\n",
            "0   -0.354466\n",
            "1    1.872726\n",
            "2    1.660638\n",
            "3    1.957243\n",
            "dtype: float64\n",
            "          0         1         2         3\n",
            "a  0.350529  1.161962  1.229066  1.556346\n",
            "b  0.565437  0.900251  0.163212  0.566724\n",
            "c  0.139558  0.189488  0.268360  0.165826\n",
            "     0    1    2    3\n",
            "a  0.0  1.0  1.0  2.0\n",
            "b -1.0  1.0  0.0  1.0\n",
            "c -0.0 -0.0  0.0 -0.0\n",
            "a    1.074476\n",
            "b    0.266187\n",
            "c   -0.056628\n",
            "dtype: float64\n",
            "          0         1         2         3\n",
            "a  0.122871  1.350157  1.510604  2.422213\n",
            "b  0.319719  0.810452  0.026638  0.321176\n",
            "c  0.019476  0.035906  0.072017  0.027498\n",
            "a                0\n",
            "min  0.350529\n",
            "max  1.556346\n",
            "b                0\n",
            "min -0.565437\n",
            "max  0.900251\n",
            "c                0\n",
            "min -0.189488\n",
            "max  0.268360\n",
            "dtype: object\n",
            "          0         1         2         3\n",
            "a  0.122871  1.350157  1.510604  2.422213\n",
            "b  0.319719  0.810452  0.026638  0.321176\n",
            "c  0.019476  0.035906  0.072017  0.027498\n"
          ]
        }
      ],
      "source": [
        "# Funksiyalarni qo'llash\n",
        "\n",
        "import pandas as pd\n",
        "import numpy as np\n",
        "\n",
        "df = pd.DataFrame(np.random.randn(3 , 4 ) , index = ['a' , 'b' , 'c'])\n",
        "print(df)\n",
        "\n",
        "print(df.sum(axis = 0)) # DataFrame ning axis lariga qarab qator yoki ustun yig'indisi qaytaradi\n",
        "\n",
        "print(df.abs()) # har bir elementning musbatini (absolut qiymaitini qaytaradi)\n",
        "\n",
        "print(df.round()) # har bir elementni yaxlitlaydi\n",
        "\n",
        "print(df.mean(axis = 1)) # DataFrame ning axis lariga qarab qator yoki ustunning o'rtacha qiymatini qaytaradi\n",
        "\n",
        "print(df.apply(lambda x : x**2)) # istalgan funksiyani yozib hollaganimiz qilsak boladi\n",
        "\n",
        "def summa(x):\n",
        "    return pd.DataFrame([x.min() , x.max()] , index = ['min' , 'max'])\n",
        "\n",
        "print(df.apply(summa , axis = 1))\n",
        "\n",
        "print(df.map(lambda x : x**2)) # har bir element uchun istalgan funksiyani qo'llash"
      ]
    },
    {
      "cell_type": "code",
      "source": [],
      "metadata": {
        "id": "2ijUgnx03ZG3"
      },
      "execution_count": null,
      "outputs": []
    }
  ]
}